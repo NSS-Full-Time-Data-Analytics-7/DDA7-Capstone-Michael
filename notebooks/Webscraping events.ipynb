{
 "cells": [
  {
   "cell_type": "code",
   "execution_count": 1,
   "id": "d5a01f55",
   "metadata": {},
   "outputs": [],
   "source": [
    "import requests\n",
    "from bs4 import BeautifulSoup as BS\n",
    "import pandas as pd\n",
    "import numpy as np\n",
    "import re \n",
    "from ast import literal_eval"
   ]
  },
  {
   "cell_type": "code",
   "execution_count": 2,
   "id": "9d96ebdb",
   "metadata": {},
   "outputs": [],
   "source": [
    "headers = {'User-Agent':'Mozilla/5.0 (Macintosh; Intel Mac OS X 10_15_7) AppleWebKit/605.1.15 (KHTML, like Gecko) Version/15.6 Safari/605.1.15'}\n",
    "\n",
    "category = 'Musical'\n",
    "\n",
    "num = 8\n",
    "\n",
    "URL = f\"https://www.nashville-theatre.com/category_dates.php?category={category}&year=2022&month={num}\"\n",
    "\n",
    "response = requests.get(URL, headers=headers)"
   ]
  },
  {
   "cell_type": "code",
   "execution_count": 3,
   "id": "41ec2436",
   "metadata": {},
   "outputs": [
    {
     "data": {
      "text/plain": [
       "requests.models.Response"
      ]
     },
     "execution_count": 3,
     "metadata": {},
     "output_type": "execute_result"
    }
   ],
   "source": [
    "type(response)"
   ]
  },
  {
   "cell_type": "code",
   "execution_count": 4,
   "id": "b7c44742",
   "metadata": {},
   "outputs": [
    {
     "data": {
      "text/plain": [
       "200"
      ]
     },
     "execution_count": 4,
     "metadata": {},
     "output_type": "execute_result"
    }
   ],
   "source": [
    "response.status_code"
   ]
  },
  {
   "cell_type": "code",
   "execution_count": 5,
   "id": "ca05080b",
   "metadata": {},
   "outputs": [],
   "source": [
    "soup = BS(response.text, 'html.parser')"
   ]
  },
  {
   "cell_type": "code",
   "execution_count": 6,
   "id": "87c4bc18",
   "metadata": {},
   "outputs": [
    {
     "name": "stdout",
     "output_type": "stream",
     "text": [
      "Best Musicals in Nashville in August 2022: Tickets, Info, Reviews, Videos and more\n"
     ]
    }
   ],
   "source": [
    "print(soup.title.text)"
   ]
  },
  {
   "cell_type": "code",
   "execution_count": 7,
   "id": "beb0343c",
   "metadata": {},
   "outputs": [
    {
     "data": {
      "text/plain": [
       "[<title>Best Musicals in Nashville in August 2022: Tickets, Info, Reviews, Videos and more</title>]"
      ]
     },
     "execution_count": 7,
     "metadata": {},
     "output_type": "execute_result"
    }
   ],
   "source": [
    "soup.findAll('title')"
   ]
  },
  {
   "cell_type": "code",
   "execution_count": 8,
   "id": "9ff4d815",
   "metadata": {
    "scrolled": true
   },
   "outputs": [
    {
     "name": "stdout",
     "output_type": "stream",
     "text": [
      "0\n"
     ]
    },
    {
     "data": {
      "text/plain": [
       "[]"
      ]
     },
     "execution_count": 8,
     "metadata": {},
     "output_type": "execute_result"
    }
   ],
   "source": [
    "Augustmusicals = soup.find_all('div', {'class':'sbl2-heading'})\n",
    "print(len(Augustmusicals))\n",
    "Augustmusicals"
   ]
  },
  {
   "cell_type": "code",
   "execution_count": 9,
   "id": "b5a6ed52",
   "metadata": {},
   "outputs": [],
   "source": [
    "for item in Augustmusicals:\n",
    "    Aevent = item.find('h3').text\n",
    "    print(Aevent)"
   ]
  },
  {
   "cell_type": "code",
   "execution_count": 10,
   "id": "7a09e8de",
   "metadata": {},
   "outputs": [],
   "source": [
    "for item in Augustmusicals:\n",
    "    Aeventvenue = item.find('span').text\n",
    "    print(Aeventvenue)"
   ]
  },
  {
   "cell_type": "code",
   "execution_count": 11,
   "id": "5a7205d0",
   "metadata": {},
   "outputs": [],
   "source": [
    "headers = {'User-Agent':'Mozilla/5.0 (Macintosh; Intel Mac OS X 10_15_7) AppleWebKit/605.1.15 (KHTML, like Gecko) Version/15.6 Safari/605.1.15'}\n",
    "\n",
    "category = 'Musical'\n",
    "\n",
    "num = 9\n",
    "\n",
    "URL = f\"https://www.nashville-theatre.com/category_dates.php?category={category}&year=2022&month={num}\"\n",
    "\n",
    "response1 = requests.get(URL, headers=headers)"
   ]
  },
  {
   "cell_type": "code",
   "execution_count": 12,
   "id": "bea42b0b",
   "metadata": {},
   "outputs": [
    {
     "data": {
      "text/plain": [
       "200"
      ]
     },
     "execution_count": 12,
     "metadata": {},
     "output_type": "execute_result"
    }
   ],
   "source": [
    "response1.status_code"
   ]
  },
  {
   "cell_type": "code",
   "execution_count": 13,
   "id": "f73ce37c",
   "metadata": {},
   "outputs": [],
   "source": [
    "soup1 = BS(response1.text, 'html.parser')"
   ]
  },
  {
   "cell_type": "code",
   "execution_count": 14,
   "id": "2b32e544",
   "metadata": {},
   "outputs": [
    {
     "name": "stdout",
     "output_type": "stream",
     "text": [
      "2\n"
     ]
    },
    {
     "data": {
      "text/plain": [
       "[<div class=\"sbl2-heading\">\n",
       " <h3><a href=\"/theaters/jameskpolktheater/rent.php\">Rent</a></h3>\n",
       " <span class=\"sbl2-venue\">James K Polk Theater</span>\n",
       " <span class=\"sbl2-date\">Sep 16 - 26, 2022</span>\n",
       " </div>,\n",
       " <div class=\"sbl2-heading\">\n",
       " <h3><a href=\"/theaters/andrewjacksonhall/pretty-woman.php\">Pretty Woman</a></h3>\n",
       " <span class=\"sbl2-venue\">Andrew Jackson Hall</span>\n",
       " <span class=\"sbl2-date\">Sep 27 - Oct 2, 2022</span>\n",
       " </div>]"
      ]
     },
     "execution_count": 14,
     "metadata": {},
     "output_type": "execute_result"
    }
   ],
   "source": [
    "Septmusicals = soup1.find_all('div', {'class':'sbl2-heading'})\n",
    "print(len(Septmusicals))\n",
    "Septmusicals"
   ]
  },
  {
   "cell_type": "code",
   "execution_count": 15,
   "id": "3df89269",
   "metadata": {},
   "outputs": [
    {
     "name": "stdout",
     "output_type": "stream",
     "text": [
      "Rent\n",
      "Pretty Woman\n"
     ]
    }
   ],
   "source": [
    "for item in Septmusicals:\n",
    "    Sevent = item.find('h3').text\n",
    "    print(Sevent)"
   ]
  },
  {
   "cell_type": "code",
   "execution_count": 16,
   "id": "016b3ef4",
   "metadata": {},
   "outputs": [
    {
     "name": "stdout",
     "output_type": "stream",
     "text": [
      "James K Polk Theater\n",
      "Andrew Jackson Hall\n"
     ]
    }
   ],
   "source": [
    "for item in Septmusicals:\n",
    "    Seventvenue = item.find('span').text\n",
    "    print(Seventvenue)"
   ]
  },
  {
   "cell_type": "code",
   "execution_count": 17,
   "id": "04a921db",
   "metadata": {},
   "outputs": [],
   "source": [
    "headers = {'User-Agent':'Mozilla/5.0 (Macintosh; Intel Mac OS X 10_15_7) AppleWebKit/605.1.15 (KHTML, like Gecko) Version/15.6 Safari/605.1.15'}\n",
    "\n",
    "category = 'Musical'\n",
    "\n",
    "num = 10\n",
    "\n",
    "URL = f\"https://www.nashville-theatre.com/category_dates.php?category={category}&year=2022&month={num}\"\n",
    "\n",
    "response2 = requests.get(URL, headers=headers)"
   ]
  },
  {
   "cell_type": "code",
   "execution_count": 18,
   "id": "799c8b0c",
   "metadata": {},
   "outputs": [],
   "source": [
    "soup2 = BS(response2.text, 'html.parser')"
   ]
  },
  {
   "cell_type": "code",
   "execution_count": 19,
   "id": "07a0e756",
   "metadata": {},
   "outputs": [
    {
     "name": "stdout",
     "output_type": "stream",
     "text": [
      "1\n"
     ]
    },
    {
     "data": {
      "text/plain": [
       "[<div class=\"sbl2-heading\">\n",
       " <h3><a href=\"/theaters/andrewjacksonhall/pretty-woman.php\">Pretty Woman</a></h3>\n",
       " <span class=\"sbl2-venue\">Andrew Jackson Hall</span>\n",
       " <span class=\"sbl2-date\">Sep 27 - Oct 2, 2022</span>\n",
       " </div>]"
      ]
     },
     "execution_count": 19,
     "metadata": {},
     "output_type": "execute_result"
    }
   ],
   "source": [
    "Octmusicals = soup2.find_all('div', {'class':'sbl2-heading'})\n",
    "print(len(Octmusicals))\n",
    "Octmusicals"
   ]
  },
  {
   "cell_type": "code",
   "execution_count": 20,
   "id": "6dc49d6f",
   "metadata": {},
   "outputs": [
    {
     "name": "stdout",
     "output_type": "stream",
     "text": [
      "Pretty Woman\n"
     ]
    }
   ],
   "source": [
    "for item in Octmusicals:\n",
    "    Oevent = item.find('h3').text\n",
    "    print(Oevent)"
   ]
  },
  {
   "cell_type": "code",
   "execution_count": 21,
   "id": "4ae9aad4",
   "metadata": {},
   "outputs": [
    {
     "name": "stdout",
     "output_type": "stream",
     "text": [
      "Andrew Jackson Hall\n"
     ]
    }
   ],
   "source": [
    "for item in Octmusicals:\n",
    "    Oeventvenue = item.find('span').text\n",
    "    print(Oeventvenue)"
   ]
  },
  {
   "cell_type": "code",
   "execution_count": 22,
   "id": "2e97ee76",
   "metadata": {},
   "outputs": [
    {
     "data": {
      "text/plain": [
       "<bound method DataFrame.from_dict of <class 'pandas.core.frame.DataFrame'>>"
      ]
     },
     "execution_count": 22,
     "metadata": {},
     "output_type": "execute_result"
    }
   ],
   "source": [
    "Events = pd.DataFrame().from_dict\n",
    "Events"
   ]
  },
  {
   "cell_type": "code",
   "execution_count": 23,
   "id": "ba083790",
   "metadata": {},
   "outputs": [],
   "source": [
    "headers = {'User-Agent':'Mozilla/5.0 (Macintosh; Intel Mac OS X 10_15_7) AppleWebKit/605.1.15 (KHTML, like Gecko) Version/15.6 Safari/605.1.15'}\n",
    "\n",
    "theater = 'andrewjacksonhall'\n",
    "show = 'hamilton'\n",
    "\n",
    "URLstring = f\"https://www.nashville-theatre.com/theaters/{theater}/{show}.php\"\n",
    "\n",
    "#https://www.nashville-theatre.com/theaters/andrewjacksonhall/tickets.php?eventName=Hamilton&cmsEventId=28579\n",
    "\n",
    "response3 = requests.get(URLstring, headers=headers)"
   ]
  },
  {
   "cell_type": "code",
   "execution_count": 24,
   "id": "52b02a6c",
   "metadata": {},
   "outputs": [
    {
     "data": {
      "text/plain": [
       "200"
      ]
     },
     "execution_count": 24,
     "metadata": {},
     "output_type": "execute_result"
    }
   ],
   "source": [
    "response3.status_code"
   ]
  },
  {
   "cell_type": "code",
   "execution_count": 25,
   "id": "6b0e8ed5",
   "metadata": {},
   "outputs": [],
   "source": [
    "musical_soup = BS(response3.text, 'html.parser')"
   ]
  },
  {
   "cell_type": "code",
   "execution_count": 26,
   "id": "0ce6c9fe",
   "metadata": {},
   "outputs": [],
   "source": [
    "def buildurl(item):\n",
    "    try :\n",
    "        return 'https://www.nashville-theatre.com/theaters' + item.find('h3').find('a')['href']\n",
    "    except :\n",
    "        return None\n",
    "\n",
    "def getShows(month):\n",
    "    yearlist = []\n",
    "    New_URL = f'https://www.nashville-theatre.com/category_dates.php?year=2022&month={month}'\n",
    "    r = requests.get(New_URL, headers=headers)\n",
    "    nashville_soup = BS(r.text,'html.parser')\n",
    "    shows = nashville_soup.find_all('div', {'class':'sbl2-heading'})\n",
    "    for item in shows:\n",
    "        show = {\n",
    "        'event': item.find('h3').text,\n",
    "        'venue': item.find('span',{'class':'sbl2-venue'}).text,\n",
    "        'dates' : item.find('span',{'class':'sbl2-date'}).text,\n",
    "        'link' : buildurl(item)\n",
    "        }\n",
    "        yearlist.append(show)\n",
    "    return yearlist"
   ]
  },
  {
   "cell_type": "code",
   "execution_count": 27,
   "id": "00529748",
   "metadata": {},
   "outputs": [],
   "source": [
    "Shows_List = []\n",
    "\n",
    "for monthnum in range(9,13):\n",
    "    Shows_List.extend(getShows(monthnum))"
   ]
  },
  {
   "cell_type": "code",
   "execution_count": 28,
   "id": "cb34c6c0",
   "metadata": {
    "scrolled": true
   },
   "outputs": [
    {
     "data": {
      "text/html": [
       "<div>\n",
       "<style scoped>\n",
       "    .dataframe tbody tr th:only-of-type {\n",
       "        vertical-align: middle;\n",
       "    }\n",
       "\n",
       "    .dataframe tbody tr th {\n",
       "        vertical-align: top;\n",
       "    }\n",
       "\n",
       "    .dataframe thead th {\n",
       "        text-align: right;\n",
       "    }\n",
       "</style>\n",
       "<table border=\"1\" class=\"dataframe\">\n",
       "  <thead>\n",
       "    <tr style=\"text-align: right;\">\n",
       "      <th></th>\n",
       "      <th>event</th>\n",
       "      <th>venue</th>\n",
       "      <th>dates</th>\n",
       "      <th>link</th>\n",
       "    </tr>\n",
       "  </thead>\n",
       "  <tbody>\n",
       "    <tr>\n",
       "      <th>0</th>\n",
       "      <td>Kevin Hart</td>\n",
       "      <td>Bridgestone Arena</td>\n",
       "      <td>Until Sep 10, 2022</td>\n",
       "      <td>https://www.nashville-theatre.com/theaters/the...</td>\n",
       "    </tr>\n",
       "    <tr>\n",
       "      <th>1</th>\n",
       "      <td>Rent</td>\n",
       "      <td>James K Polk Theater</td>\n",
       "      <td>Sep 16 - 26, 2022</td>\n",
       "      <td>https://www.nashville-theatre.com/theaters/the...</td>\n",
       "    </tr>\n",
       "    <tr>\n",
       "      <th>2</th>\n",
       "      <td>Pretty Woman</td>\n",
       "      <td>Andrew Jackson Hall</td>\n",
       "      <td>Sep 27 - Oct 2, 2022</td>\n",
       "      <td>https://www.nashville-theatre.com/theaters/the...</td>\n",
       "    </tr>\n",
       "    <tr>\n",
       "      <th>3</th>\n",
       "      <td>Backstreet Boys</td>\n",
       "      <td>Bridgestone Arena</td>\n",
       "      <td>Sep 8, 2022</td>\n",
       "      <td>https://www.nashville-theatre.com/theaters/the...</td>\n",
       "    </tr>\n",
       "    <tr>\n",
       "      <th>4</th>\n",
       "      <td>Florence and the Machine</td>\n",
       "      <td>Ascend Amphitheater</td>\n",
       "      <td>Sep 20, 2022</td>\n",
       "      <td>https://www.nashville-theatre.com/theaters/the...</td>\n",
       "    </tr>\n",
       "    <tr>\n",
       "      <th>...</th>\n",
       "      <td>...</td>\n",
       "      <td>...</td>\n",
       "      <td>...</td>\n",
       "      <td>...</td>\n",
       "    </tr>\n",
       "    <tr>\n",
       "      <th>399</th>\n",
       "      <td>Music City Chorus Christmas Celebration with D...</td>\n",
       "      <td>Ryman Auditorium</td>\n",
       "      <td>Dec 22, 2022</td>\n",
       "      <td>None</td>\n",
       "    </tr>\n",
       "    <tr>\n",
       "      <th>400</th>\n",
       "      <td>Opry Country Christmas Show</td>\n",
       "      <td>Grand Ole Opry House</td>\n",
       "      <td>Dec 1, 2022 - Dec 22, 2022</td>\n",
       "      <td>None</td>\n",
       "    </tr>\n",
       "    <tr>\n",
       "      <th>401</th>\n",
       "      <td>Drew and Ellie Holcombs Neighborly Christmas</td>\n",
       "      <td>Schermerhorn Symphony Center</td>\n",
       "      <td>Dec 22, 2022</td>\n",
       "      <td>None</td>\n",
       "    </tr>\n",
       "    <tr>\n",
       "      <th>402</th>\n",
       "      <td>Moscow Ballet: Nutcracker! Magic of Christmas</td>\n",
       "      <td>Ryman Auditorium</td>\n",
       "      <td>Dec 24, 2022</td>\n",
       "      <td>None</td>\n",
       "    </tr>\n",
       "    <tr>\n",
       "      <th>403</th>\n",
       "      <td>Marc Broussard</td>\n",
       "      <td>City Winery - Nashville</td>\n",
       "      <td>Dec 30, 2022 - Dec 31, 2022</td>\n",
       "      <td>None</td>\n",
       "    </tr>\n",
       "  </tbody>\n",
       "</table>\n",
       "<p>404 rows × 4 columns</p>\n",
       "</div>"
      ],
      "text/plain": [
       "                                                 event  \\\n",
       "0                                           Kevin Hart   \n",
       "1                                                 Rent   \n",
       "2                                         Pretty Woman   \n",
       "3                                      Backstreet Boys   \n",
       "4                             Florence and the Machine   \n",
       "..                                                 ...   \n",
       "399  Music City Chorus Christmas Celebration with D...   \n",
       "400                        Opry Country Christmas Show   \n",
       "401       Drew and Ellie Holcombs Neighborly Christmas   \n",
       "402      Moscow Ballet: Nutcracker! Magic of Christmas   \n",
       "403                                     Marc Broussard   \n",
       "\n",
       "                            venue                        dates  \\\n",
       "0               Bridgestone Arena           Until Sep 10, 2022   \n",
       "1            James K Polk Theater            Sep 16 - 26, 2022   \n",
       "2             Andrew Jackson Hall         Sep 27 - Oct 2, 2022   \n",
       "3               Bridgestone Arena                  Sep 8, 2022   \n",
       "4             Ascend Amphitheater                 Sep 20, 2022   \n",
       "..                            ...                          ...   \n",
       "399              Ryman Auditorium                 Dec 22, 2022   \n",
       "400          Grand Ole Opry House   Dec 1, 2022 - Dec 22, 2022   \n",
       "401  Schermerhorn Symphony Center                 Dec 22, 2022   \n",
       "402              Ryman Auditorium                 Dec 24, 2022   \n",
       "403       City Winery - Nashville  Dec 30, 2022 - Dec 31, 2022   \n",
       "\n",
       "                                                  link  \n",
       "0    https://www.nashville-theatre.com/theaters/the...  \n",
       "1    https://www.nashville-theatre.com/theaters/the...  \n",
       "2    https://www.nashville-theatre.com/theaters/the...  \n",
       "3    https://www.nashville-theatre.com/theaters/the...  \n",
       "4    https://www.nashville-theatre.com/theaters/the...  \n",
       "..                                                 ...  \n",
       "399                                               None  \n",
       "400                                               None  \n",
       "401                                               None  \n",
       "402                                               None  \n",
       "403                                               None  \n",
       "\n",
       "[404 rows x 4 columns]"
      ]
     },
     "execution_count": 28,
     "metadata": {},
     "output_type": "execute_result"
    }
   ],
   "source": [
    "Shows_df = pd.DataFrame(Shows_List)\n",
    "Shows_df\n"
   ]
  },
  {
   "cell_type": "code",
   "execution_count": 81,
   "id": "45ea837b",
   "metadata": {},
   "outputs": [
    {
     "name": "stdout",
     "output_type": "stream",
     "text": [
      "['Bridgestone Arena' 'James K Polk Theater' 'Andrew Jackson Hall'\n",
      " 'Ascend Amphitheater' 'FirstBank Amphitheater' 'Grand Ole Opry House'\n",
      " 'Ryman Auditorium' 'Marathon Music Works'\n",
      " 'Country Music Hall of Fame and Museum' 'Nashville Municipal Auditorium'\n",
      " 'City Winery Nashville' 'War Memorial Auditorium'\n",
      " 'Schermerhorn Symphony Center' 'Zanies Comedy Showplace Nashville'\n",
      " 'Zanies Comedy Club Nashville' '3rd & Lindsley' 'The Basement East'\n",
      " 'City Winery - Nashville' 'CMA Theater at Country Music Hall Of Fame'\n",
      " 'Brown County Music Center' 'Vanderbilt University Alumni Lawn' 'Exit In'\n",
      " 'The End' 'Wildhorse Saloon - Nashville' 'James K. Polk Theater'\n",
      " 'Nissan Stadium' 'TN Performing Arts Center Andrew Jackson Hall'\n",
      " 'TN Performing Arts Center Andrew Johnson Theater' 'Mercy Lounge'\n",
      " 'The Basement-TN']\n"
     ]
    }
   ],
   "source": [
    "venue_list = Shows_df['venue'].unique()\n",
    "print(venue_list)\n",
    "venue_dict = {'Bridgestone Arena':'bridgestone-arena',\n",
    "              'James K Polk Theater':'jameskpolktheater',\n",
    "              'James K. Polk Theater':'jameskpolktheater',\n",
    "              'Andrew Jackson Hall':'andrewjacksonhall',\n",
    "              'Ascend Amphitheater':'ascend-amphitheater',\n",
    "              'FirstBank Amphitheater':'firstbank-amphitheater',\n",
    "              'Grand Ole Opry House':'grandoleopry',\n",
    "              'Ryman Auditorium':'rymanauditorium',\n",
    "              'Marathon Music Works':'marathon-music-works',\n",
    "              'Country Music Hall of Fame and Museum':'country-music-hall-of-fame',\n",
    "              'Nashville Municipal Auditorium':'nashvillemunicipalauditorium',\n",
    "              'City Winery Nashville':'city-winery-nast',\n",
    "              'War Memorial Auditorium':'nashvillewarmemorial',\n",
    "              'Schermerhorn Symphony Center':'schermerhornsymphonycenter',\n",
    "              'Zanies Comedy Showplace Nashville':'zanies-comedy-showplace-nashville',\n",
    "              'Zanies Comedy Club Nashville':'zanies-comedy-showplace-nashville',\n",
    "              '3rd & Lindsley':'3rdlindsley',\n",
    "              'The Basement East':'the-basement-east',\n",
    "              'City Winery - Nashville':'city-winery-nast',\n",
    "              'CMA Theater at Country Music Hall Of Fame':'country-music-hall-of-fame',\n",
    "              'Brown County Music Center':'brown-county-music-center',\n",
    "              'Vanderbilt University Alumni Lawn':'vanderbilt-university-alumni-lawn',\n",
    "              'Exit In':'exitin',\n",
    "              'The End':'theend',\n",
    "              'Wildhorse Saloon - Nashville':'wildhorsesaloon',\n",
    "              'Nissan Stadium':'nissan-stadium',\n",
    "              'TN Performing Arts Center Andrew Johnson Theater':'andrew-johnson-theater',\n",
    "              'TN Performing Arts Center Andrew Jackson Hall':'andrewjacksonhall',\n",
    "              'Mercy Lounge':'mercylounge',\n",
    "              'The Basement-TN':'thebasement'}"
   ]
  },
  {
   "cell_type": "code",
   "execution_count": 53,
   "id": "db8f4c40",
   "metadata": {},
   "outputs": [],
   "source": [
    "venuelist_df = pd.DataFrame(venue_list)\n",
    "venuelist_df.to_csv('../data/venue_list.csv')"
   ]
  },
  {
   "cell_type": "code",
   "execution_count": 54,
   "id": "041a5a3c",
   "metadata": {},
   "outputs": [
    {
     "data": {
      "text/plain": [
       "200"
      ]
     },
     "execution_count": 54,
     "metadata": {},
     "output_type": "execute_result"
    }
   ],
   "source": [
    "venue = 'bridgestone-arena'\n",
    "event = 'kevin-hart'\n",
    "\n",
    "shows_url = f'https://www.nashville-theatre.com/theaters/{venue}/{event}.php'\n",
    "\n",
    "response4 = requests.get(shows_url, headers=headers)\n",
    "response4.status_code"
   ]
  },
  {
   "cell_type": "code",
   "execution_count": 55,
   "id": "8fdcba15",
   "metadata": {},
   "outputs": [],
   "source": [
    "kevin_soup = BS(response4.text, 'html.parser')"
   ]
  },
  {
   "cell_type": "code",
   "execution_count": 56,
   "id": "b40b3108",
   "metadata": {},
   "outputs": [
    {
     "name": "stdout",
     "output_type": "stream",
     "text": [
      "Kevin Hart\n",
      "Kevin Hart - Bridgestone Arena, Nashville, TN - Tickets, information, reviews\n",
      "When\n",
      "Sat, Sep 10\n",
      "What time\n",
      "-\n",
      " \n",
      "7:00 PM\n",
      "Prices From\n",
      "$75\n"
     ]
    }
   ],
   "source": [
    "#event\n",
    "print(kevin_soup.find('h1').text)\n",
    "#tags\n",
    "for item in kevin_soup.find('title'):\n",
    "    print(item.text)\n",
    "#venue\n",
    "for item in kevin_soup.find_all('div',{'class':'sub-nav-1'}):\n",
    "    print(item.text)\n",
    "#show dates col1\n",
    "for items in kevin_soup.find_all('div',{'class':'col1'}):\n",
    "    print(items.text)\n",
    "#show dates col2,3   \n",
    "for items in kevin_soup.find_all('div',{'class':'col2'}):\n",
    "    print(items.text)\n",
    "for items in kevin_soup.find_all('div',{'class':'col3'}):\n",
    "    print(items.text)\n",
    "#ticket prices starting at\n",
    "for items in kevin_soup.find_all('div',{'class':'col4'}):\n",
    "    print(items.text)"
   ]
  },
  {
   "cell_type": "code",
   "execution_count": 57,
   "id": "baa9d54a",
   "metadata": {},
   "outputs": [],
   "source": [
    "## Function that builds the book tickets URL and a function that searches the monthly shows list\n",
    "## and fetches the event, its venue, and the URL to book tickets for each\n",
    "\n",
    "def buildticketurl(item):\n",
    "    try :\n",
    "        return 'https://www.nashville-theatre.com' + item.find('a',{'class':'category-date-performance'})['href']\n",
    "    except :\n",
    "        return None\n",
    "    \n",
    "def buildinfourl(item):\n",
    "    try :\n",
    "        return 'https://www.nashville-theatre.com/theaters' + item.find('h3').find('a')['href']\n",
    "    except :\n",
    "        return None\n",
    "\n",
    "def getShows(month):\n",
    "    yearlist = []\n",
    "    New_URL = f'https://www.nashville-theatre.com/category_dates.php?year=2022&month={month}'\n",
    "    r = requests.get(New_URL, headers=headers)\n",
    "    nashville_soup = BS(r.text,'html.parser')\n",
    "    shows = nashville_soup.find_all('div', {'class':'show-block-listing-v2'})\n",
    "    for item in shows:\n",
    "        show = {\n",
    "        'event': item.find('h3').text,\n",
    "        'venue': item.find('span',{'class':'sbl2-venue'}).text,\n",
    "        'ticketlink' : buildticketurl(item),\n",
    "        'infolink': buildinfourl(item)\n",
    "        }\n",
    "        yearlist.append(show)\n",
    "    return yearlist\n",
    "\n",
    "def ticketInfo(soup):\n",
    "    try :\n",
    "        dictionary = literal_eval(re.search('var ticketPerformances = ({.+})',soup.prettify()).group(1))\n",
    "        return dictionary\n",
    "    except :\n",
    "        return None\n",
    "    \n",
    "    \n",
    "    "
   ]
  },
  {
   "cell_type": "code",
   "execution_count": 58,
   "id": "30891422",
   "metadata": {},
   "outputs": [],
   "source": [
    "showlist = []\n",
    "\n",
    "for monthnum in range(9,13):\n",
    "   showlist.extend(getShows(monthnum))"
   ]
  },
  {
   "cell_type": "code",
   "execution_count": 59,
   "id": "c0ccf8a7",
   "metadata": {
    "scrolled": false
   },
   "outputs": [
    {
     "data": {
      "text/html": [
       "<div>\n",
       "<style scoped>\n",
       "    .dataframe tbody tr th:only-of-type {\n",
       "        vertical-align: middle;\n",
       "    }\n",
       "\n",
       "    .dataframe tbody tr th {\n",
       "        vertical-align: top;\n",
       "    }\n",
       "\n",
       "    .dataframe thead th {\n",
       "        text-align: right;\n",
       "    }\n",
       "</style>\n",
       "<table border=\"1\" class=\"dataframe\">\n",
       "  <thead>\n",
       "    <tr style=\"text-align: right;\">\n",
       "      <th></th>\n",
       "      <th>event</th>\n",
       "      <th>venue</th>\n",
       "      <th>ticketlink</th>\n",
       "      <th>infolink</th>\n",
       "    </tr>\n",
       "  </thead>\n",
       "  <tbody>\n",
       "    <tr>\n",
       "      <th>0</th>\n",
       "      <td>Kevin Hart</td>\n",
       "      <td>Bridgestone Arena</td>\n",
       "      <td>https://www.nashville-theatre.com/theaters/bri...</td>\n",
       "      <td>https://www.nashville-theatre.com/theaters/the...</td>\n",
       "    </tr>\n",
       "    <tr>\n",
       "      <th>1</th>\n",
       "      <td>Rent</td>\n",
       "      <td>James K Polk Theater</td>\n",
       "      <td>https://www.nashville-theatre.com/theaters/jam...</td>\n",
       "      <td>https://www.nashville-theatre.com/theaters/the...</td>\n",
       "    </tr>\n",
       "    <tr>\n",
       "      <th>2</th>\n",
       "      <td>Pretty Woman</td>\n",
       "      <td>Andrew Jackson Hall</td>\n",
       "      <td>https://www.nashville-theatre.com/theaters/and...</td>\n",
       "      <td>https://www.nashville-theatre.com/theaters/the...</td>\n",
       "    </tr>\n",
       "    <tr>\n",
       "      <th>3</th>\n",
       "      <td>Backstreet Boys</td>\n",
       "      <td>Bridgestone Arena</td>\n",
       "      <td>https://www.nashville-theatre.com/theaters/bri...</td>\n",
       "      <td>https://www.nashville-theatre.com/theaters/the...</td>\n",
       "    </tr>\n",
       "    <tr>\n",
       "      <th>4</th>\n",
       "      <td>Florence and the Machine</td>\n",
       "      <td>Ascend Amphitheater</td>\n",
       "      <td>https://www.nashville-theatre.com/theaters/asc...</td>\n",
       "      <td>https://www.nashville-theatre.com/theaters/the...</td>\n",
       "    </tr>\n",
       "    <tr>\n",
       "      <th>...</th>\n",
       "      <td>...</td>\n",
       "      <td>...</td>\n",
       "      <td>...</td>\n",
       "      <td>...</td>\n",
       "    </tr>\n",
       "    <tr>\n",
       "      <th>399</th>\n",
       "      <td>Music City Chorus Christmas Celebration with D...</td>\n",
       "      <td>Ryman Auditorium</td>\n",
       "      <td>https://www.nashville-theatre.com/theaters/rym...</td>\n",
       "      <td>None</td>\n",
       "    </tr>\n",
       "    <tr>\n",
       "      <th>400</th>\n",
       "      <td>Opry Country Christmas Show</td>\n",
       "      <td>Grand Ole Opry House</td>\n",
       "      <td>https://www.nashville-theatre.com/theaters/gra...</td>\n",
       "      <td>None</td>\n",
       "    </tr>\n",
       "    <tr>\n",
       "      <th>401</th>\n",
       "      <td>Drew and Ellie Holcombs Neighborly Christmas</td>\n",
       "      <td>Schermerhorn Symphony Center</td>\n",
       "      <td>https://www.nashville-theatre.com/theaters/sch...</td>\n",
       "      <td>None</td>\n",
       "    </tr>\n",
       "    <tr>\n",
       "      <th>402</th>\n",
       "      <td>Moscow Ballet: Nutcracker! Magic of Christmas</td>\n",
       "      <td>Ryman Auditorium</td>\n",
       "      <td>https://www.nashville-theatre.com/theaters/rym...</td>\n",
       "      <td>None</td>\n",
       "    </tr>\n",
       "    <tr>\n",
       "      <th>403</th>\n",
       "      <td>Marc Broussard</td>\n",
       "      <td>City Winery - Nashville</td>\n",
       "      <td>https://www.nashville-theatre.com/theaters/cit...</td>\n",
       "      <td>None</td>\n",
       "    </tr>\n",
       "  </tbody>\n",
       "</table>\n",
       "<p>394 rows × 4 columns</p>\n",
       "</div>"
      ],
      "text/plain": [
       "                                                 event  \\\n",
       "0                                           Kevin Hart   \n",
       "1                                                 Rent   \n",
       "2                                         Pretty Woman   \n",
       "3                                      Backstreet Boys   \n",
       "4                             Florence and the Machine   \n",
       "..                                                 ...   \n",
       "399  Music City Chorus Christmas Celebration with D...   \n",
       "400                        Opry Country Christmas Show   \n",
       "401       Drew and Ellie Holcombs Neighborly Christmas   \n",
       "402      Moscow Ballet: Nutcracker! Magic of Christmas   \n",
       "403                                     Marc Broussard   \n",
       "\n",
       "                            venue  \\\n",
       "0               Bridgestone Arena   \n",
       "1            James K Polk Theater   \n",
       "2             Andrew Jackson Hall   \n",
       "3               Bridgestone Arena   \n",
       "4             Ascend Amphitheater   \n",
       "..                            ...   \n",
       "399              Ryman Auditorium   \n",
       "400          Grand Ole Opry House   \n",
       "401  Schermerhorn Symphony Center   \n",
       "402              Ryman Auditorium   \n",
       "403       City Winery - Nashville   \n",
       "\n",
       "                                            ticketlink  \\\n",
       "0    https://www.nashville-theatre.com/theaters/bri...   \n",
       "1    https://www.nashville-theatre.com/theaters/jam...   \n",
       "2    https://www.nashville-theatre.com/theaters/and...   \n",
       "3    https://www.nashville-theatre.com/theaters/bri...   \n",
       "4    https://www.nashville-theatre.com/theaters/asc...   \n",
       "..                                                 ...   \n",
       "399  https://www.nashville-theatre.com/theaters/rym...   \n",
       "400  https://www.nashville-theatre.com/theaters/gra...   \n",
       "401  https://www.nashville-theatre.com/theaters/sch...   \n",
       "402  https://www.nashville-theatre.com/theaters/rym...   \n",
       "403  https://www.nashville-theatre.com/theaters/cit...   \n",
       "\n",
       "                                              infolink  \n",
       "0    https://www.nashville-theatre.com/theaters/the...  \n",
       "1    https://www.nashville-theatre.com/theaters/the...  \n",
       "2    https://www.nashville-theatre.com/theaters/the...  \n",
       "3    https://www.nashville-theatre.com/theaters/the...  \n",
       "4    https://www.nashville-theatre.com/theaters/the...  \n",
       "..                                                 ...  \n",
       "399                                               None  \n",
       "400                                               None  \n",
       "401                                               None  \n",
       "402                                               None  \n",
       "403                                               None  \n",
       "\n",
       "[394 rows x 4 columns]"
      ]
     },
     "execution_count": 59,
     "metadata": {},
     "output_type": "execute_result"
    }
   ],
   "source": [
    "unique_shows_df = pd.DataFrame(showlist)\n",
    "unique_shows_df = unique_shows_df[unique_shows_df['venue']!= 'Brown County Music Center']\n",
    "unique_shows_df"
   ]
  },
  {
   "cell_type": "code",
   "execution_count": 60,
   "id": "949bb920",
   "metadata": {},
   "outputs": [],
   "source": [
    "def getTickets(ticketlink):\n",
    "    ticketlist = []\n",
    "    New_URL = unique_shows_df['ticketlink']\n",
    "    r = requests.get(New_URL, headers=headers)\n",
    "    nashville_soup = BS(r.text,'html.parser')\n",
    "    shows = nashville_soup.find_all('div', {'class':'show-block-listing-v2'})\n",
    "    for item in shows:\n",
    "        show = {\n",
    "        'event': item.find('h3').text,\n",
    "        'venue': item.find('span',{'class':'sbl2-venue'}).text,\n",
    "        'ticketlink' : buildticketurl(item),\n",
    "        'infolink': buildinfourl(item)\n",
    "        }\n",
    "        yearlist.append(show)\n",
    "    return yearlist"
   ]
  },
  {
   "cell_type": "code",
   "execution_count": 61,
   "id": "e9be81b0",
   "metadata": {},
   "outputs": [
    {
     "data": {
      "text/plain": [
       "200"
      ]
     },
     "execution_count": 61,
     "metadata": {},
     "output_type": "execute_result"
    }
   ],
   "source": [
    "rentURL = 'https://www.nashville-theatre.com/theaters/jameskpolktheater/tickets.php?eventName=Rent&cmsEventId=20183&month=9&year=2022'\n",
    "\n",
    "responserent = requests.get(rentURL, headers=headers)\n",
    "responserent.status_code"
   ]
  },
  {
   "cell_type": "code",
   "execution_count": 62,
   "id": "15084b2d",
   "metadata": {},
   "outputs": [],
   "source": [
    "rent_soup = BS(responserent.text,'html.parser')"
   ]
  },
  {
   "cell_type": "code",
   "execution_count": 63,
   "id": "bca9ccb2",
   "metadata": {},
   "outputs": [
    {
     "data": {
      "text/plain": [
       "<title>Rent Tickets Calendar - Sep 2022 - James K Polk Theater Nashville</title>"
      ]
     },
     "execution_count": 63,
     "metadata": {},
     "output_type": "execute_result"
    }
   ],
   "source": [
    "rent_soup.find('title')"
   ]
  },
  {
   "cell_type": "code",
   "execution_count": 64,
   "id": "369be21d",
   "metadata": {},
   "outputs": [
    {
     "name": "stdout",
     "output_type": "stream",
     "text": [
      "Rent\n"
     ]
    }
   ],
   "source": [
    "for item in rent_soup.find('a',{'id':'top-nav-1'}):\n",
    "    print(item.text)"
   ]
  },
  {
   "cell_type": "code",
   "execution_count": 65,
   "id": "871e266b",
   "metadata": {},
   "outputs": [
    {
     "name": "stdout",
     "output_type": "stream",
     "text": [
      "September 2022\n"
     ]
    }
   ],
   "source": [
    "for item in rent_soup.find('a',{'id':'sub-nav-2'}):\n",
    "    print(item.text)\n"
   ]
  },
  {
   "cell_type": "code",
   "execution_count": 66,
   "id": "44a36316",
   "metadata": {},
   "outputs": [
    {
     "name": "stdout",
     "output_type": "stream",
     "text": [
      "September 16 - 25, 2022\n"
     ]
    }
   ],
   "source": [
    "for item in rent_soup.find('div',{'class':'showing'}):\n",
    "    print(item.text)"
   ]
  },
  {
   "cell_type": "code",
   "execution_count": 67,
   "id": "0b52f3f9",
   "metadata": {},
   "outputs": [
    {
     "name": "stdout",
     "output_type": "stream",
     "text": [
      "JAMES K POLK THEATER\n"
     ]
    }
   ],
   "source": [
    "for item in rent_soup.find('a',{'id':'sub-nav-1'}):\n",
    "    print(item.text)"
   ]
  },
  {
   "cell_type": "code",
   "execution_count": 68,
   "id": "b1387948",
   "metadata": {},
   "outputs": [
    {
     "name": "stdout",
     "output_type": "stream",
     "text": [
      "Tennessee Performing Arts Center, 505 Deaderick St, Nashville, TN 37219\n"
     ]
    }
   ],
   "source": [
    "for item in rent_soup.find('div',{'class':'location-desk'}):\n",
    "    print(item.text)"
   ]
  },
  {
   "cell_type": "raw",
   "id": "d1564b43",
   "metadata": {},
   "source": [
    "show_times = []\n",
    "  \n",
    "for index, row in Shows_df.iterrows():\n",
    "    event = row['event'].replace(' ','-').lower()\n",
    "    venue = row['venue']\n",
    "    venue = venue_dict[venue]\n",
    "    shows_url = f'https://www.nashville-theatre.com/theaters/{venue}/{event}.php'\n",
    "    r = requests.get(shows_url, headers=headers)\n",
    "    shows_soup = BS(r.text,'html.parser')\n",
    "    shows = {\n",
    "      'name' : [row['event']for entry in shows_soup.find_all('a',{'id':'top-nav-1'})],\n",
    "      'venue': [row['venue']for entry in shows_soup.find_all('a',{'id':'sub-nav-1'})],\n",
    "      #'tags' : [entry.text for entry in shows_soup.find_all('a', {'class':'tag reverse'})],\n",
    "      'dates': [entry.text for entry in shows_soup.find_all('div',{'class':'col1'})],\n",
    "      'time1': [entry.text for entry in shows_soup.find_all('div',{'class':'col2'})],\n",
    "      'time2': [entry.text for entry in shows_soup.find_all('div',{'class':'col3'})]\n",
    "            }\n",
    "    show_times.append(shows)\n"
   ]
  },
  {
   "cell_type": "code",
   "execution_count": 69,
   "id": "b339351e",
   "metadata": {},
   "outputs": [
    {
     "data": {
      "text/plain": [
       "[]"
      ]
     },
     "execution_count": 69,
     "metadata": {},
     "output_type": "execute_result"
    }
   ],
   "source": [
    "rent_soup.find_all('fc-perf-time')"
   ]
  },
  {
   "cell_type": "code",
   "execution_count": 70,
   "id": "c262116f",
   "metadata": {},
   "outputs": [],
   "source": [
    "rent_dict = literal_eval(re.search('var ticketPerformances = ({.+})',rent_soup.prettify()).group(1))"
   ]
  },
  {
   "cell_type": "code",
   "execution_count": 71,
   "id": "ad348e3d",
   "metadata": {},
   "outputs": [
    {
     "data": {
      "text/plain": [
       "['09-16-2022',\n",
       " '09-17-2022',\n",
       " '09-18-2022',\n",
       " '09-22-2022',\n",
       " '09-23-2022',\n",
       " '09-24-2022',\n",
       " '09-25-2022']"
      ]
     },
     "execution_count": 71,
     "metadata": {},
     "output_type": "execute_result"
    }
   ],
   "source": [
    "list(rent_dict.keys())\n"
   ]
  },
  {
   "cell_type": "code",
   "execution_count": 72,
   "id": "c4fb2870",
   "metadata": {},
   "outputs": [
    {
     "data": {
      "text/plain": [
       "'<a class=\"fc-perf-link fc-perf  fc-vivid-embed\" href=\"tickets.php?eventName=Rent&cmsEventId=20183&buy=true&history=seating&utc=1663423200&vsShowId=4017181&floorImg=https%3A%2F%2Fd2o50i5c2dr30a.cloudfront.net%2Ff830fdcd-31e9-4ce4-96f6-aabbd935b6a3.jpg&xyz=y\" data-utc=\"1663423200\" data-title=\"Rent Tickets - Sep 17, 2022 - James K Polk Theater Nashville\"><div class=\"fc-perf-details\"><div class=\"fc-perf-time\">2:00 PM</div><div class=\"fc-perf-price\">From $130</div><div class=\"clear\"></div></div></a><a class=\"fc-perf-link fc-perf  fc-vivid-embed\" href=\"tickets.php?eventName=Rent&cmsEventId=20183&buy=true&history=seating&utc=1663443000&vsShowId=4017183&floorImg=https%3A%2F%2Fd2o50i5c2dr30a.cloudfront.net%2Ff830fdcd-31e9-4ce4-96f6-aabbd935b6a3.jpg&xyz=y\" data-utc=\"1663443000\" data-title=\"Rent Tickets - Sep 17, 2022 - James K Polk Theater Nashville\"><div class=\"fc-perf-details\"><div class=\"fc-perf-time\">7:30 PM</div><div class=\"fc-perf-price\">From $100</div><div class=\"clear\"></div></div></a>'"
      ]
     },
     "execution_count": 72,
     "metadata": {},
     "output_type": "execute_result"
    }
   ],
   "source": [
    "rent_dict['09-17-2022']"
   ]
  },
  {
   "cell_type": "code",
   "execution_count": 73,
   "id": "3271cbcd",
   "metadata": {},
   "outputs": [
    {
     "name": "stdout",
     "output_type": "stream",
     "text": [
      "2:00 PM\n",
      "7:30 PM\n"
     ]
    }
   ],
   "source": [
    "soup = BS(rent_dict['09-17-2022'],'html.parser')\n",
    "for item in soup.find_all('div', {'class':'fc-perf-time'}):\n",
    "    if len(item.text)>1:\n",
    "        print(item.text)"
   ]
  },
  {
   "cell_type": "code",
   "execution_count": 74,
   "id": "4f6cc488",
   "metadata": {
    "scrolled": false
   },
   "outputs": [],
   "source": [
    "show_times = []\n",
    "  \n",
    "for index, row in unique_shows_df.iterrows():\n",
    "    ticketing = row['ticketlink']\n",
    "    event = row['event']\n",
    "    venue = row['venue']\n",
    "    if ticketing: \n",
    "        tr = requests.get(ticketing, headers=headers)\n",
    "        ticket_soup = BS(tr.text,'html.parser')\n",
    "        dictionary = ticketInfo(ticket_soup)\n",
    "        location = ticket_soup.find('div',{'class':'location-desk'}).text\n",
    "        if dictionary:\n",
    "            eventlist = []\n",
    "            venuelist = []\n",
    "            datelist = []\n",
    "            timeslist = []\n",
    "            locationlist = []\n",
    "            for date,soup in dictionary.items():\n",
    "                soup = BS(soup)\n",
    "                eventlist.extend([event for entry in soup.find_all('div',{'class':'fc-perf-time'})])\n",
    "                venuelist.extend([venue for entry in soup.find_all('div',{'class':'fc-perf-time'})])\n",
    "                locationlist.extend([location for entry in soup.find_all('div',{'class':'fc-perf-time'})])\n",
    "                datelist.extend([date for entry in soup.find_all('div',{'class':'fc-perf-time'})])\n",
    "                timeslist.extend([entry.text for entry in soup.find_all('div',{'class':'fc-perf-time'})])\n",
    "                shows = {\n",
    "                 'name' : eventlist,\n",
    "                 'venue': venuelist,\n",
    "                 'location' : locationlist,\n",
    "                 'dates': datelist,\n",
    "                 'times': timeslist\n",
    "                     }\n",
    "                show_times.append(shows)"
   ]
  },
  {
   "cell_type": "code",
   "execution_count": 75,
   "id": "c2dbd50f",
   "metadata": {},
   "outputs": [
    {
     "data": {
      "text/plain": [
       "['\\xa0', '8:00 PM', '7:00 PM', '11:00 PM']"
      ]
     },
     "execution_count": 75,
     "metadata": {},
     "output_type": "execute_result"
    }
   ],
   "source": [
    "timeslist"
   ]
  },
  {
   "cell_type": "code",
   "execution_count": 76,
   "id": "9ece403a",
   "metadata": {},
   "outputs": [
    {
     "data": {
      "text/html": [
       "<div>\n",
       "<style scoped>\n",
       "    .dataframe tbody tr th:only-of-type {\n",
       "        vertical-align: middle;\n",
       "    }\n",
       "\n",
       "    .dataframe tbody tr th {\n",
       "        vertical-align: top;\n",
       "    }\n",
       "\n",
       "    .dataframe thead th {\n",
       "        text-align: right;\n",
       "    }\n",
       "</style>\n",
       "<table border=\"1\" class=\"dataframe\">\n",
       "  <thead>\n",
       "    <tr style=\"text-align: right;\">\n",
       "      <th></th>\n",
       "      <th>name</th>\n",
       "      <th>venue</th>\n",
       "      <th>location</th>\n",
       "      <th>dates</th>\n",
       "      <th>times</th>\n",
       "    </tr>\n",
       "  </thead>\n",
       "  <tbody>\n",
       "    <tr>\n",
       "      <th>0</th>\n",
       "      <td>Kevin Hart</td>\n",
       "      <td>Bridgestone Arena</td>\n",
       "      <td>501 Broadway, Nashville, TN 37201</td>\n",
       "      <td>09-10-2022</td>\n",
       "      <td>7:00 PM</td>\n",
       "    </tr>\n",
       "    <tr>\n",
       "      <th>1</th>\n",
       "      <td>Rent</td>\n",
       "      <td>James K Polk Theater</td>\n",
       "      <td>Tennessee Performing Arts Center, 505 Deaderic...</td>\n",
       "      <td>09-16-2022</td>\n",
       "      <td>7:30 PM</td>\n",
       "    </tr>\n",
       "    <tr>\n",
       "      <th>2</th>\n",
       "      <td>Rent</td>\n",
       "      <td>James K Polk Theater</td>\n",
       "      <td>Tennessee Performing Arts Center, 505 Deaderic...</td>\n",
       "      <td>09-17-2022</td>\n",
       "      <td>2:00 PM</td>\n",
       "    </tr>\n",
       "    <tr>\n",
       "      <th>3</th>\n",
       "      <td>Rent</td>\n",
       "      <td>James K Polk Theater</td>\n",
       "      <td>Tennessee Performing Arts Center, 505 Deaderic...</td>\n",
       "      <td>09-17-2022</td>\n",
       "      <td>7:30 PM</td>\n",
       "    </tr>\n",
       "    <tr>\n",
       "      <th>4</th>\n",
       "      <td>Rent</td>\n",
       "      <td>James K Polk Theater</td>\n",
       "      <td>Tennessee Performing Arts Center, 505 Deaderic...</td>\n",
       "      <td>09-18-2022</td>\n",
       "      <td>2:00 PM</td>\n",
       "    </tr>\n",
       "    <tr>\n",
       "      <th>...</th>\n",
       "      <td>...</td>\n",
       "      <td>...</td>\n",
       "      <td>...</td>\n",
       "      <td>...</td>\n",
       "      <td>...</td>\n",
       "    </tr>\n",
       "    <tr>\n",
       "      <th>428</th>\n",
       "      <td>Moscow Ballet: Nutcracker! Magic of Christmas</td>\n",
       "      <td>Ryman Auditorium</td>\n",
       "      <td>116 5th Ave N, Nashville, TN 37219</td>\n",
       "      <td>12-24-2022</td>\n",
       "      <td>1:00 PM</td>\n",
       "    </tr>\n",
       "    <tr>\n",
       "      <th>429</th>\n",
       "      <td>Moscow Ballet: Nutcracker! Magic of Christmas</td>\n",
       "      <td>Ryman Auditorium</td>\n",
       "      <td>116 5th Ave N, Nashville, TN 37219</td>\n",
       "      <td>12-24-2022</td>\n",
       "      <td>5:00 PM</td>\n",
       "    </tr>\n",
       "    <tr>\n",
       "      <th>430</th>\n",
       "      <td>Marc Broussard</td>\n",
       "      <td>City Winery - Nashville</td>\n",
       "      <td>609 Lafayette St, Nashville, TN 37203</td>\n",
       "      <td>12-30-2022</td>\n",
       "      <td>8:00 PM</td>\n",
       "    </tr>\n",
       "    <tr>\n",
       "      <th>431</th>\n",
       "      <td>Marc Broussard</td>\n",
       "      <td>City Winery - Nashville</td>\n",
       "      <td>609 Lafayette St, Nashville, TN 37203</td>\n",
       "      <td>12-31-2022</td>\n",
       "      <td>7:00 PM</td>\n",
       "    </tr>\n",
       "    <tr>\n",
       "      <th>432</th>\n",
       "      <td>Marc Broussard</td>\n",
       "      <td>City Winery - Nashville</td>\n",
       "      <td>609 Lafayette St, Nashville, TN 37203</td>\n",
       "      <td>12-31-2022</td>\n",
       "      <td>11:00 PM</td>\n",
       "    </tr>\n",
       "  </tbody>\n",
       "</table>\n",
       "<p>433 rows × 5 columns</p>\n",
       "</div>"
      ],
      "text/plain": [
       "                                              name                    venue  \\\n",
       "0                                       Kevin Hart        Bridgestone Arena   \n",
       "1                                             Rent     James K Polk Theater   \n",
       "2                                             Rent     James K Polk Theater   \n",
       "3                                             Rent     James K Polk Theater   \n",
       "4                                             Rent     James K Polk Theater   \n",
       "..                                             ...                      ...   \n",
       "428  Moscow Ballet: Nutcracker! Magic of Christmas         Ryman Auditorium   \n",
       "429  Moscow Ballet: Nutcracker! Magic of Christmas         Ryman Auditorium   \n",
       "430                                 Marc Broussard  City Winery - Nashville   \n",
       "431                                 Marc Broussard  City Winery - Nashville   \n",
       "432                                 Marc Broussard  City Winery - Nashville   \n",
       "\n",
       "                                              location       dates     times  \n",
       "0                    501 Broadway, Nashville, TN 37201  09-10-2022   7:00 PM  \n",
       "1    Tennessee Performing Arts Center, 505 Deaderic...  09-16-2022   7:30 PM  \n",
       "2    Tennessee Performing Arts Center, 505 Deaderic...  09-17-2022   2:00 PM  \n",
       "3    Tennessee Performing Arts Center, 505 Deaderic...  09-17-2022   7:30 PM  \n",
       "4    Tennessee Performing Arts Center, 505 Deaderic...  09-18-2022   2:00 PM  \n",
       "..                                                 ...         ...       ...  \n",
       "428                 116 5th Ave N, Nashville, TN 37219  12-24-2022   1:00 PM  \n",
       "429                 116 5th Ave N, Nashville, TN 37219  12-24-2022   5:00 PM  \n",
       "430              609 Lafayette St, Nashville, TN 37203  12-30-2022   8:00 PM  \n",
       "431              609 Lafayette St, Nashville, TN 37203  12-31-2022   7:00 PM  \n",
       "432              609 Lafayette St, Nashville, TN 37203  12-31-2022  11:00 PM  \n",
       "\n",
       "[433 rows x 5 columns]"
      ]
     },
     "execution_count": 76,
     "metadata": {},
     "output_type": "execute_result"
    }
   ],
   "source": [
    "master_df = pd.concat([pd.DataFrame(entry) for entry in show_times])\n",
    "master_df = master_df[master_df.times != '\\xa0'].reset_index(drop=True).drop_duplicates().reset_index(drop=True)\n",
    "master_df"
   ]
  },
  {
   "cell_type": "code",
   "execution_count": 77,
   "id": "316133d6",
   "metadata": {},
   "outputs": [],
   "source": [
    "master_df.to_csv('../data/master_df.csv')"
   ]
  },
  {
   "cell_type": "code",
   "execution_count": 83,
   "id": "c1f977e4",
   "metadata": {},
   "outputs": [
    {
     "data": {
      "text/html": [
       "<div>\n",
       "<style scoped>\n",
       "    .dataframe tbody tr th:only-of-type {\n",
       "        vertical-align: middle;\n",
       "    }\n",
       "\n",
       "    .dataframe tbody tr th {\n",
       "        vertical-align: top;\n",
       "    }\n",
       "\n",
       "    .dataframe thead th {\n",
       "        text-align: right;\n",
       "    }\n",
       "</style>\n",
       "<table border=\"1\" class=\"dataframe\">\n",
       "  <thead>\n",
       "    <tr style=\"text-align: right;\">\n",
       "      <th></th>\n",
       "      <th>event</th>\n",
       "      <th>venue</th>\n",
       "    </tr>\n",
       "  </thead>\n",
       "  <tbody>\n",
       "    <tr>\n",
       "      <th>0</th>\n",
       "      <td>Kevin Hart</td>\n",
       "      <td>Bridgestone Arena</td>\n",
       "    </tr>\n",
       "    <tr>\n",
       "      <th>1</th>\n",
       "      <td>Rent</td>\n",
       "      <td>James K Polk Theater</td>\n",
       "    </tr>\n",
       "    <tr>\n",
       "      <th>2</th>\n",
       "      <td>Pretty Woman</td>\n",
       "      <td>Andrew Jackson Hall</td>\n",
       "    </tr>\n",
       "    <tr>\n",
       "      <th>3</th>\n",
       "      <td>Backstreet Boys</td>\n",
       "      <td>Bridgestone Arena</td>\n",
       "    </tr>\n",
       "    <tr>\n",
       "      <th>4</th>\n",
       "      <td>Florence and the Machine</td>\n",
       "      <td>Ascend Amphitheater</td>\n",
       "    </tr>\n",
       "    <tr>\n",
       "      <th>...</th>\n",
       "      <td>...</td>\n",
       "      <td>...</td>\n",
       "    </tr>\n",
       "    <tr>\n",
       "      <th>177</th>\n",
       "      <td>Surf Curse</td>\n",
       "      <td>The Basement East</td>\n",
       "    </tr>\n",
       "    <tr>\n",
       "      <th>178</th>\n",
       "      <td>Music City Christmas</td>\n",
       "      <td>Schermerhorn Symphony Center</td>\n",
       "    </tr>\n",
       "    <tr>\n",
       "      <th>179</th>\n",
       "      <td>Drew and Ellie Holcombs Neighborly Christmas</td>\n",
       "      <td>Schermerhorn Symphony Center</td>\n",
       "    </tr>\n",
       "    <tr>\n",
       "      <th>180</th>\n",
       "      <td>Moscow Ballet: Nutcracker! Magic of Christmas</td>\n",
       "      <td>Ryman Auditorium</td>\n",
       "    </tr>\n",
       "    <tr>\n",
       "      <th>181</th>\n",
       "      <td>Marc Broussard</td>\n",
       "      <td>City Winery - Nashville</td>\n",
       "    </tr>\n",
       "  </tbody>\n",
       "</table>\n",
       "<p>182 rows × 2 columns</p>\n",
       "</div>"
      ],
      "text/plain": [
       "                                             event  \\\n",
       "0                                       Kevin Hart   \n",
       "1                                             Rent   \n",
       "2                                     Pretty Woman   \n",
       "3                                  Backstreet Boys   \n",
       "4                         Florence and the Machine   \n",
       "..                                             ...   \n",
       "177                                     Surf Curse   \n",
       "178                           Music City Christmas   \n",
       "179   Drew and Ellie Holcombs Neighborly Christmas   \n",
       "180  Moscow Ballet: Nutcracker! Magic of Christmas   \n",
       "181                                 Marc Broussard   \n",
       "\n",
       "                            venue  \n",
       "0               Bridgestone Arena  \n",
       "1            James K Polk Theater  \n",
       "2             Andrew Jackson Hall  \n",
       "3               Bridgestone Arena  \n",
       "4             Ascend Amphitheater  \n",
       "..                            ...  \n",
       "177             The Basement East  \n",
       "178  Schermerhorn Symphony Center  \n",
       "179  Schermerhorn Symphony Center  \n",
       "180              Ryman Auditorium  \n",
       "181       City Winery - Nashville  \n",
       "\n",
       "[182 rows x 2 columns]"
      ]
     },
     "execution_count": 83,
     "metadata": {},
     "output_type": "execute_result"
    }
   ],
   "source": [
    "names_and_venues = master_df[['name','venue']]\n",
    "names_and_venues = names_and_venues.drop_duplicates().reset_index(drop=True)\n",
    "names_and_venues = names_and_venues.rename(columns = {'name':'event'})\n",
    "names_and_venues"
   ]
  },
  {
   "cell_type": "code",
   "execution_count": 82,
   "id": "83fc9d2f",
   "metadata": {},
   "outputs": [],
   "source": [
    "categories = []\n",
    "  \n",
    "for index, row in names_and_venues.iterrows():\n",
    "    event = row['event'].replace(':','').replace(\"'\",'').replace(' ','-').lower()\n",
    "    venue = row['venue']\n",
    "    venue = venue_dict[venue]\n",
    "    shows_url = f'https://www.nashville-theatre.com/theaters/{venue}/{event}.php'\n",
    "    r = requests.get(shows_url, headers=headers)\n",
    "    shows_soup = BS(r.text,'html.parser')\n",
    "    tags = {\n",
    "      'name' : [row['event']for entry in shows_soup.find_all('a',{'id':'top-nav-1'})],\n",
    "      'venue': [row['venue']for entry in shows_soup.find_all('a',{'id':'sub-nav-1'})],\n",
    "      'tags' : [entry.text for entry in shows_soup.find_all('a', {'class':'tag reverse'})]\n",
    "            }\n",
    "    categories.append(tags)"
   ]
  },
  {
   "cell_type": "code",
   "execution_count": 84,
   "id": "b39941f6",
   "metadata": {
    "scrolled": true
   },
   "outputs": [
    {
     "data": {
      "text/html": [
       "<div>\n",
       "<style scoped>\n",
       "    .dataframe tbody tr th:only-of-type {\n",
       "        vertical-align: middle;\n",
       "    }\n",
       "\n",
       "    .dataframe tbody tr th {\n",
       "        vertical-align: top;\n",
       "    }\n",
       "\n",
       "    .dataframe thead th {\n",
       "        text-align: right;\n",
       "    }\n",
       "</style>\n",
       "<table border=\"1\" class=\"dataframe\">\n",
       "  <thead>\n",
       "    <tr style=\"text-align: right;\">\n",
       "      <th></th>\n",
       "      <th>name</th>\n",
       "      <th>venue</th>\n",
       "      <th>tags</th>\n",
       "    </tr>\n",
       "  </thead>\n",
       "  <tbody>\n",
       "    <tr>\n",
       "      <th>0</th>\n",
       "      <td>[Kevin Hart]</td>\n",
       "      <td>[Bridgestone Arena]</td>\n",
       "      <td>[Comedy &amp; Stand-up]</td>\n",
       "    </tr>\n",
       "    <tr>\n",
       "      <th>1</th>\n",
       "      <td>[Rent]</td>\n",
       "      <td>[James K Polk Theater]</td>\n",
       "      <td>[Broadway Shows, Musicals, Tony Winners, Tony ...</td>\n",
       "    </tr>\n",
       "    <tr>\n",
       "      <th>2</th>\n",
       "      <td>[Pretty Woman]</td>\n",
       "      <td>[Andrew Jackson Hall]</td>\n",
       "      <td>[Broadway Shows, Musicals]</td>\n",
       "    </tr>\n",
       "    <tr>\n",
       "      <th>3</th>\n",
       "      <td>[Backstreet Boys]</td>\n",
       "      <td>[Bridgestone Arena]</td>\n",
       "      <td>[Contemporary Pop, Concerts]</td>\n",
       "    </tr>\n",
       "    <tr>\n",
       "      <th>4</th>\n",
       "      <td>[Florence and the Machine]</td>\n",
       "      <td>[Ascend Amphitheater]</td>\n",
       "      <td>[Contemporary Pop, Indie &amp; Rock, Concerts]</td>\n",
       "    </tr>\n",
       "    <tr>\n",
       "      <th>...</th>\n",
       "      <td>...</td>\n",
       "      <td>...</td>\n",
       "      <td>...</td>\n",
       "    </tr>\n",
       "    <tr>\n",
       "      <th>177</th>\n",
       "      <td>[]</td>\n",
       "      <td>[]</td>\n",
       "      <td>[]</td>\n",
       "    </tr>\n",
       "    <tr>\n",
       "      <th>178</th>\n",
       "      <td>[]</td>\n",
       "      <td>[]</td>\n",
       "      <td>[]</td>\n",
       "    </tr>\n",
       "    <tr>\n",
       "      <th>179</th>\n",
       "      <td>[]</td>\n",
       "      <td>[]</td>\n",
       "      <td>[]</td>\n",
       "    </tr>\n",
       "    <tr>\n",
       "      <th>180</th>\n",
       "      <td>[]</td>\n",
       "      <td>[]</td>\n",
       "      <td>[]</td>\n",
       "    </tr>\n",
       "    <tr>\n",
       "      <th>181</th>\n",
       "      <td>[]</td>\n",
       "      <td>[]</td>\n",
       "      <td>[]</td>\n",
       "    </tr>\n",
       "  </tbody>\n",
       "</table>\n",
       "<p>182 rows × 3 columns</p>\n",
       "</div>"
      ],
      "text/plain": [
       "                           name                   venue  \\\n",
       "0                  [Kevin Hart]     [Bridgestone Arena]   \n",
       "1                        [Rent]  [James K Polk Theater]   \n",
       "2                [Pretty Woman]   [Andrew Jackson Hall]   \n",
       "3             [Backstreet Boys]     [Bridgestone Arena]   \n",
       "4    [Florence and the Machine]   [Ascend Amphitheater]   \n",
       "..                          ...                     ...   \n",
       "177                          []                      []   \n",
       "178                          []                      []   \n",
       "179                          []                      []   \n",
       "180                          []                      []   \n",
       "181                          []                      []   \n",
       "\n",
       "                                                  tags  \n",
       "0                                  [Comedy & Stand-up]  \n",
       "1    [Broadway Shows, Musicals, Tony Winners, Tony ...  \n",
       "2                           [Broadway Shows, Musicals]  \n",
       "3                         [Contemporary Pop, Concerts]  \n",
       "4           [Contemporary Pop, Indie & Rock, Concerts]  \n",
       "..                                                 ...  \n",
       "177                                                 []  \n",
       "178                                                 []  \n",
       "179                                                 []  \n",
       "180                                                 []  \n",
       "181                                                 []  \n",
       "\n",
       "[182 rows x 3 columns]"
      ]
     },
     "execution_count": 84,
     "metadata": {},
     "output_type": "execute_result"
    }
   ],
   "source": [
    "tags = pd.DataFrame(categories)\n",
    "tags"
   ]
  },
  {
   "cell_type": "code",
   "execution_count": 85,
   "id": "2e234a6a",
   "metadata": {
    "scrolled": false
   },
   "outputs": [
    {
     "data": {
      "text/html": [
       "<div>\n",
       "<style scoped>\n",
       "    .dataframe tbody tr th:only-of-type {\n",
       "        vertical-align: middle;\n",
       "    }\n",
       "\n",
       "    .dataframe tbody tr th {\n",
       "        vertical-align: top;\n",
       "    }\n",
       "\n",
       "    .dataframe thead th {\n",
       "        text-align: right;\n",
       "    }\n",
       "</style>\n",
       "<table border=\"1\" class=\"dataframe\">\n",
       "  <thead>\n",
       "    <tr style=\"text-align: right;\">\n",
       "      <th></th>\n",
       "      <th>name</th>\n",
       "      <th>tags</th>\n",
       "    </tr>\n",
       "  </thead>\n",
       "  <tbody>\n",
       "    <tr>\n",
       "      <th>0</th>\n",
       "      <td>Kevin Hart</td>\n",
       "      <td>Comedy &amp; Stand-up</td>\n",
       "    </tr>\n",
       "    <tr>\n",
       "      <th>1</th>\n",
       "      <td>Rent</td>\n",
       "      <td>Broadway Shows</td>\n",
       "    </tr>\n",
       "    <tr>\n",
       "      <th>2</th>\n",
       "      <td>Rent</td>\n",
       "      <td>Musicals</td>\n",
       "    </tr>\n",
       "    <tr>\n",
       "      <th>3</th>\n",
       "      <td>Rent</td>\n",
       "      <td>Tony Winners</td>\n",
       "    </tr>\n",
       "    <tr>\n",
       "      <th>4</th>\n",
       "      <td>Rent</td>\n",
       "      <td>Tony Nominees</td>\n",
       "    </tr>\n",
       "    <tr>\n",
       "      <th>...</th>\n",
       "      <td>...</td>\n",
       "      <td>...</td>\n",
       "    </tr>\n",
       "    <tr>\n",
       "      <th>300</th>\n",
       "      <td>Smokey Robinson</td>\n",
       "      <td>Concerts</td>\n",
       "    </tr>\n",
       "    <tr>\n",
       "      <th>301</th>\n",
       "      <td>Rainbow Kitten Surprise</td>\n",
       "      <td>Indie &amp; Rock</td>\n",
       "    </tr>\n",
       "    <tr>\n",
       "      <th>302</th>\n",
       "      <td>Rainbow Kitten Surprise</td>\n",
       "      <td>Concerts</td>\n",
       "    </tr>\n",
       "    <tr>\n",
       "      <th>303</th>\n",
       "      <td>Jelly Roll</td>\n",
       "      <td>Rap &amp; Hip Hop</td>\n",
       "    </tr>\n",
       "    <tr>\n",
       "      <th>304</th>\n",
       "      <td>Jelly Roll</td>\n",
       "      <td>Concerts</td>\n",
       "    </tr>\n",
       "  </tbody>\n",
       "</table>\n",
       "<p>305 rows × 2 columns</p>\n",
       "</div>"
      ],
      "text/plain": [
       "                        name               tags\n",
       "0                 Kevin Hart  Comedy & Stand-up\n",
       "1                       Rent     Broadway Shows\n",
       "2                       Rent           Musicals\n",
       "3                       Rent       Tony Winners\n",
       "4                       Rent      Tony Nominees\n",
       "..                       ...                ...\n",
       "300          Smokey Robinson           Concerts\n",
       "301  Rainbow Kitten Surprise       Indie & Rock\n",
       "302  Rainbow Kitten Surprise           Concerts\n",
       "303               Jelly Roll      Rap & Hip Hop\n",
       "304               Jelly Roll           Concerts\n",
       "\n",
       "[305 rows x 2 columns]"
      ]
     },
     "execution_count": 85,
     "metadata": {},
     "output_type": "execute_result"
    }
   ],
   "source": [
    "event_categories = tags[['name','tags']]\n",
    "event_categories = event_categories[event_categories['tags'].map(lambda d: len(d))>0]\n",
    "event_categories = event_categories.explode('name',ignore_index=True).explode('tags',ignore_index=True)\n",
    "event_categories"
   ]
  },
  {
   "cell_type": "code",
   "execution_count": 86,
   "id": "43612e45",
   "metadata": {},
   "outputs": [],
   "source": [
    "event_categories.to_csv('../data/most popular event-categories.csv')"
   ]
  },
  {
   "cell_type": "code",
   "execution_count": 87,
   "id": "da7147dc",
   "metadata": {},
   "outputs": [
    {
     "data": {
      "text/html": [
       "<div>\n",
       "<style scoped>\n",
       "    .dataframe tbody tr th:only-of-type {\n",
       "        vertical-align: middle;\n",
       "    }\n",
       "\n",
       "    .dataframe tbody tr th {\n",
       "        vertical-align: top;\n",
       "    }\n",
       "\n",
       "    .dataframe thead th {\n",
       "        text-align: right;\n",
       "    }\n",
       "</style>\n",
       "<table border=\"1\" class=\"dataframe\">\n",
       "  <thead>\n",
       "    <tr style=\"text-align: right;\">\n",
       "      <th></th>\n",
       "      <th>venue</th>\n",
       "      <th>tags</th>\n",
       "    </tr>\n",
       "  </thead>\n",
       "  <tbody>\n",
       "    <tr>\n",
       "      <th>0</th>\n",
       "      <td>Bridgestone Arena</td>\n",
       "      <td>Comedy &amp; Stand-up</td>\n",
       "    </tr>\n",
       "    <tr>\n",
       "      <th>1</th>\n",
       "      <td>James K Polk Theater</td>\n",
       "      <td>Broadway Shows</td>\n",
       "    </tr>\n",
       "    <tr>\n",
       "      <th>2</th>\n",
       "      <td>James K Polk Theater</td>\n",
       "      <td>Musicals</td>\n",
       "    </tr>\n",
       "    <tr>\n",
       "      <th>3</th>\n",
       "      <td>James K Polk Theater</td>\n",
       "      <td>Tony Winners</td>\n",
       "    </tr>\n",
       "    <tr>\n",
       "      <th>4</th>\n",
       "      <td>James K Polk Theater</td>\n",
       "      <td>Tony Nominees</td>\n",
       "    </tr>\n",
       "    <tr>\n",
       "      <th>...</th>\n",
       "      <td>...</td>\n",
       "      <td>...</td>\n",
       "    </tr>\n",
       "    <tr>\n",
       "      <th>300</th>\n",
       "      <td>Ryman Auditorium</td>\n",
       "      <td>Concerts</td>\n",
       "    </tr>\n",
       "    <tr>\n",
       "      <th>301</th>\n",
       "      <td>Nashville Municipal Auditorium</td>\n",
       "      <td>Indie &amp; Rock</td>\n",
       "    </tr>\n",
       "    <tr>\n",
       "      <th>302</th>\n",
       "      <td>Nashville Municipal Auditorium</td>\n",
       "      <td>Concerts</td>\n",
       "    </tr>\n",
       "    <tr>\n",
       "      <th>303</th>\n",
       "      <td>Bridgestone Arena</td>\n",
       "      <td>Rap &amp; Hip Hop</td>\n",
       "    </tr>\n",
       "    <tr>\n",
       "      <th>304</th>\n",
       "      <td>Bridgestone Arena</td>\n",
       "      <td>Concerts</td>\n",
       "    </tr>\n",
       "  </tbody>\n",
       "</table>\n",
       "<p>305 rows × 2 columns</p>\n",
       "</div>"
      ],
      "text/plain": [
       "                              venue               tags\n",
       "0                 Bridgestone Arena  Comedy & Stand-up\n",
       "1              James K Polk Theater     Broadway Shows\n",
       "2              James K Polk Theater           Musicals\n",
       "3              James K Polk Theater       Tony Winners\n",
       "4              James K Polk Theater      Tony Nominees\n",
       "..                              ...                ...\n",
       "300                Ryman Auditorium           Concerts\n",
       "301  Nashville Municipal Auditorium       Indie & Rock\n",
       "302  Nashville Municipal Auditorium           Concerts\n",
       "303               Bridgestone Arena      Rap & Hip Hop\n",
       "304               Bridgestone Arena           Concerts\n",
       "\n",
       "[305 rows x 2 columns]"
      ]
     },
     "execution_count": 87,
     "metadata": {},
     "output_type": "execute_result"
    }
   ],
   "source": [
    "venue_categories = tags[['venue','tags']]\n",
    "venue_categories = venue_categories[venue_categories['tags'].map(lambda d: len(d))>0]\n",
    "venue_categories = venue_categories.explode('venue',ignore_index=True).explode('tags',ignore_index=True)\n",
    "venue_categories"
   ]
  },
  {
   "cell_type": "code",
   "execution_count": 88,
   "id": "d3e88ed9",
   "metadata": {},
   "outputs": [],
   "source": [
    "venue_categories.to_csv('../data/most popular venues-categories.csv')"
   ]
  },
  {
   "cell_type": "code",
   "execution_count": 89,
   "id": "d92b4ff1",
   "metadata": {},
   "outputs": [],
   "source": [
    "venue_capacities = pd.read_excel('../data/venue_capacities.xlsx').drop(columns='Source')"
   ]
  },
  {
   "cell_type": "code",
   "execution_count": 90,
   "id": "7e6c45ee",
   "metadata": {
    "scrolled": false
   },
   "outputs": [
    {
     "data": {
      "text/html": [
       "<div>\n",
       "<style scoped>\n",
       "    .dataframe tbody tr th:only-of-type {\n",
       "        vertical-align: middle;\n",
       "    }\n",
       "\n",
       "    .dataframe tbody tr th {\n",
       "        vertical-align: top;\n",
       "    }\n",
       "\n",
       "    .dataframe thead th {\n",
       "        text-align: right;\n",
       "    }\n",
       "</style>\n",
       "<table border=\"1\" class=\"dataframe\">\n",
       "  <thead>\n",
       "    <tr style=\"text-align: right;\">\n",
       "      <th></th>\n",
       "      <th>Venue</th>\n",
       "      <th>Capacity</th>\n",
       "    </tr>\n",
       "  </thead>\n",
       "  <tbody>\n",
       "    <tr>\n",
       "      <th>0</th>\n",
       "      <td>Bridgestone Arena</td>\n",
       "      <td>20000.0</td>\n",
       "    </tr>\n",
       "    <tr>\n",
       "      <th>1</th>\n",
       "      <td>James K Polk Theater</td>\n",
       "      <td>1031.0</td>\n",
       "    </tr>\n",
       "    <tr>\n",
       "      <th>2</th>\n",
       "      <td>Andrew Jackson Hall</td>\n",
       "      <td>2425.0</td>\n",
       "    </tr>\n",
       "    <tr>\n",
       "      <th>3</th>\n",
       "      <td>Ascend Amphitheater</td>\n",
       "      <td>6800.0</td>\n",
       "    </tr>\n",
       "    <tr>\n",
       "      <th>4</th>\n",
       "      <td>FirstBank Amphitheater</td>\n",
       "      <td>7500.0</td>\n",
       "    </tr>\n",
       "    <tr>\n",
       "      <th>5</th>\n",
       "      <td>Grand Ole Opry House</td>\n",
       "      <td>4400.0</td>\n",
       "    </tr>\n",
       "    <tr>\n",
       "      <th>6</th>\n",
       "      <td>Ryman Auditorium</td>\n",
       "      <td>2362.0</td>\n",
       "    </tr>\n",
       "    <tr>\n",
       "      <th>7</th>\n",
       "      <td>Marathon Music Works</td>\n",
       "      <td>1700.0</td>\n",
       "    </tr>\n",
       "    <tr>\n",
       "      <th>8</th>\n",
       "      <td>Country Music Hall of Fame and Museum</td>\n",
       "      <td>776.0</td>\n",
       "    </tr>\n",
       "    <tr>\n",
       "      <th>9</th>\n",
       "      <td>Nashville Municipal Auditorium</td>\n",
       "      <td>9654.0</td>\n",
       "    </tr>\n",
       "    <tr>\n",
       "      <th>10</th>\n",
       "      <td>City Winery Nashville</td>\n",
       "      <td>650.0</td>\n",
       "    </tr>\n",
       "    <tr>\n",
       "      <th>11</th>\n",
       "      <td>War Memorial Auditorium</td>\n",
       "      <td>2044.0</td>\n",
       "    </tr>\n",
       "    <tr>\n",
       "      <th>12</th>\n",
       "      <td>Schermerhorn Symphony Center</td>\n",
       "      <td>1844.0</td>\n",
       "    </tr>\n",
       "    <tr>\n",
       "      <th>13</th>\n",
       "      <td>Zanies Comedy Showplace Nashville</td>\n",
       "      <td>300.0</td>\n",
       "    </tr>\n",
       "    <tr>\n",
       "      <th>14</th>\n",
       "      <td>Zanies Comedy Club Nashville</td>\n",
       "      <td>300.0</td>\n",
       "    </tr>\n",
       "    <tr>\n",
       "      <th>15</th>\n",
       "      <td>3rd &amp; Lindsley</td>\n",
       "      <td>340.0</td>\n",
       "    </tr>\n",
       "    <tr>\n",
       "      <th>16</th>\n",
       "      <td>The Basement East</td>\n",
       "      <td>575.0</td>\n",
       "    </tr>\n",
       "    <tr>\n",
       "      <th>17</th>\n",
       "      <td>CMA Theater at Country Music Hall Of Fame</td>\n",
       "      <td>776.0</td>\n",
       "    </tr>\n",
       "    <tr>\n",
       "      <th>18</th>\n",
       "      <td>Vanderbilt University Alumni Lawn</td>\n",
       "      <td>550.0</td>\n",
       "    </tr>\n",
       "    <tr>\n",
       "      <th>19</th>\n",
       "      <td>Exit In</td>\n",
       "      <td>500.0</td>\n",
       "    </tr>\n",
       "    <tr>\n",
       "      <th>20</th>\n",
       "      <td>The End</td>\n",
       "      <td>200.0</td>\n",
       "    </tr>\n",
       "    <tr>\n",
       "      <th>21</th>\n",
       "      <td>Wildhorse Saloon - Nashville</td>\n",
       "      <td>2400.0</td>\n",
       "    </tr>\n",
       "    <tr>\n",
       "      <th>22</th>\n",
       "      <td>Nissan Stadium</td>\n",
       "      <td>69143.0</td>\n",
       "    </tr>\n",
       "    <tr>\n",
       "      <th>23</th>\n",
       "      <td>TN Performing Arts Center Andrew Johnson Theater</td>\n",
       "      <td>264.0</td>\n",
       "    </tr>\n",
       "    <tr>\n",
       "      <th>24</th>\n",
       "      <td>The Basement-TN</td>\n",
       "      <td>200.0</td>\n",
       "    </tr>\n",
       "    <tr>\n",
       "      <th>25</th>\n",
       "      <td>Mercy Lounge</td>\n",
       "      <td>500.0</td>\n",
       "    </tr>\n",
       "  </tbody>\n",
       "</table>\n",
       "</div>"
      ],
      "text/plain": [
       "                                               Venue  Capacity\n",
       "0                                  Bridgestone Arena   20000.0\n",
       "1                               James K Polk Theater    1031.0\n",
       "2                                Andrew Jackson Hall    2425.0\n",
       "3                                Ascend Amphitheater    6800.0\n",
       "4                             FirstBank Amphitheater    7500.0\n",
       "5                               Grand Ole Opry House    4400.0\n",
       "6                                   Ryman Auditorium    2362.0\n",
       "7                               Marathon Music Works    1700.0\n",
       "8              Country Music Hall of Fame and Museum     776.0\n",
       "9                     Nashville Municipal Auditorium    9654.0\n",
       "10                             City Winery Nashville     650.0\n",
       "11                           War Memorial Auditorium    2044.0\n",
       "12                      Schermerhorn Symphony Center    1844.0\n",
       "13                 Zanies Comedy Showplace Nashville     300.0\n",
       "14                      Zanies Comedy Club Nashville     300.0\n",
       "15                                    3rd & Lindsley     340.0\n",
       "16                                 The Basement East     575.0\n",
       "17         CMA Theater at Country Music Hall Of Fame     776.0\n",
       "18                 Vanderbilt University Alumni Lawn     550.0\n",
       "19                                           Exit In     500.0\n",
       "20                                           The End     200.0\n",
       "21                      Wildhorse Saloon - Nashville    2400.0\n",
       "22                                    Nissan Stadium   69143.0\n",
       "23  TN Performing Arts Center Andrew Johnson Theater     264.0\n",
       "24                                   The Basement-TN     200.0\n",
       "25                                      Mercy Lounge     500.0"
      ]
     },
     "execution_count": 90,
     "metadata": {},
     "output_type": "execute_result"
    }
   ],
   "source": [
    "venue_capacities = venue_capacities.drop(venue_capacities.index[[26,27]])\n",
    "venue_capacities"
   ]
  },
  {
   "cell_type": "code",
   "execution_count": 91,
   "id": "565f1f58",
   "metadata": {},
   "outputs": [],
   "source": [
    "for index, row in venue_capacities.iterrows():\n",
    "    if row.Capacity < 500 :\n",
    "        venue_capacities.loc[index, 'Size'] = 'small'\n",
    "    elif row.Capacity <= 1500 :\n",
    "        venue_capacities.loc[index, 'Size'] = 'medium'\n",
    "    elif row.Capacity <= 5000 :\n",
    "        venue_capacities.loc[index, 'Size'] = 'large'\n",
    "    elif row.Capacity <= 10000 :\n",
    "        venue_capacities.loc[index, 'Size'] = 'very large'\n",
    "    elif row.Capacity > 10000 :\n",
    "        venue_capacities.loc[index, 'Size'] = 'massive'"
   ]
  },
  {
   "cell_type": "code",
   "execution_count": 92,
   "id": "2f3a7d6b",
   "metadata": {},
   "outputs": [
    {
     "data": {
      "text/html": [
       "<div>\n",
       "<style scoped>\n",
       "    .dataframe tbody tr th:only-of-type {\n",
       "        vertical-align: middle;\n",
       "    }\n",
       "\n",
       "    .dataframe tbody tr th {\n",
       "        vertical-align: top;\n",
       "    }\n",
       "\n",
       "    .dataframe thead th {\n",
       "        text-align: right;\n",
       "    }\n",
       "</style>\n",
       "<table border=\"1\" class=\"dataframe\">\n",
       "  <thead>\n",
       "    <tr style=\"text-align: right;\">\n",
       "      <th></th>\n",
       "      <th>Venue</th>\n",
       "      <th>Capacity</th>\n",
       "      <th>Size</th>\n",
       "    </tr>\n",
       "  </thead>\n",
       "  <tbody>\n",
       "    <tr>\n",
       "      <th>0</th>\n",
       "      <td>Bridgestone Arena</td>\n",
       "      <td>20000.0</td>\n",
       "      <td>massive</td>\n",
       "    </tr>\n",
       "    <tr>\n",
       "      <th>1</th>\n",
       "      <td>James K Polk Theater</td>\n",
       "      <td>1031.0</td>\n",
       "      <td>medium</td>\n",
       "    </tr>\n",
       "    <tr>\n",
       "      <th>2</th>\n",
       "      <td>Andrew Jackson Hall</td>\n",
       "      <td>2425.0</td>\n",
       "      <td>large</td>\n",
       "    </tr>\n",
       "    <tr>\n",
       "      <th>3</th>\n",
       "      <td>Ascend Amphitheater</td>\n",
       "      <td>6800.0</td>\n",
       "      <td>very large</td>\n",
       "    </tr>\n",
       "    <tr>\n",
       "      <th>4</th>\n",
       "      <td>FirstBank Amphitheater</td>\n",
       "      <td>7500.0</td>\n",
       "      <td>very large</td>\n",
       "    </tr>\n",
       "    <tr>\n",
       "      <th>5</th>\n",
       "      <td>Grand Ole Opry House</td>\n",
       "      <td>4400.0</td>\n",
       "      <td>large</td>\n",
       "    </tr>\n",
       "    <tr>\n",
       "      <th>6</th>\n",
       "      <td>Ryman Auditorium</td>\n",
       "      <td>2362.0</td>\n",
       "      <td>large</td>\n",
       "    </tr>\n",
       "    <tr>\n",
       "      <th>7</th>\n",
       "      <td>Marathon Music Works</td>\n",
       "      <td>1700.0</td>\n",
       "      <td>large</td>\n",
       "    </tr>\n",
       "    <tr>\n",
       "      <th>8</th>\n",
       "      <td>Country Music Hall of Fame and Museum</td>\n",
       "      <td>776.0</td>\n",
       "      <td>medium</td>\n",
       "    </tr>\n",
       "    <tr>\n",
       "      <th>9</th>\n",
       "      <td>Nashville Municipal Auditorium</td>\n",
       "      <td>9654.0</td>\n",
       "      <td>very large</td>\n",
       "    </tr>\n",
       "    <tr>\n",
       "      <th>10</th>\n",
       "      <td>City Winery Nashville</td>\n",
       "      <td>650.0</td>\n",
       "      <td>medium</td>\n",
       "    </tr>\n",
       "    <tr>\n",
       "      <th>11</th>\n",
       "      <td>War Memorial Auditorium</td>\n",
       "      <td>2044.0</td>\n",
       "      <td>large</td>\n",
       "    </tr>\n",
       "    <tr>\n",
       "      <th>12</th>\n",
       "      <td>Schermerhorn Symphony Center</td>\n",
       "      <td>1844.0</td>\n",
       "      <td>large</td>\n",
       "    </tr>\n",
       "    <tr>\n",
       "      <th>13</th>\n",
       "      <td>Zanies Comedy Showplace Nashville</td>\n",
       "      <td>300.0</td>\n",
       "      <td>small</td>\n",
       "    </tr>\n",
       "    <tr>\n",
       "      <th>14</th>\n",
       "      <td>Zanies Comedy Club Nashville</td>\n",
       "      <td>300.0</td>\n",
       "      <td>small</td>\n",
       "    </tr>\n",
       "    <tr>\n",
       "      <th>15</th>\n",
       "      <td>3rd &amp; Lindsley</td>\n",
       "      <td>340.0</td>\n",
       "      <td>small</td>\n",
       "    </tr>\n",
       "    <tr>\n",
       "      <th>16</th>\n",
       "      <td>The Basement East</td>\n",
       "      <td>575.0</td>\n",
       "      <td>medium</td>\n",
       "    </tr>\n",
       "    <tr>\n",
       "      <th>17</th>\n",
       "      <td>CMA Theater at Country Music Hall Of Fame</td>\n",
       "      <td>776.0</td>\n",
       "      <td>medium</td>\n",
       "    </tr>\n",
       "    <tr>\n",
       "      <th>18</th>\n",
       "      <td>Vanderbilt University Alumni Lawn</td>\n",
       "      <td>550.0</td>\n",
       "      <td>medium</td>\n",
       "    </tr>\n",
       "    <tr>\n",
       "      <th>19</th>\n",
       "      <td>Exit In</td>\n",
       "      <td>500.0</td>\n",
       "      <td>medium</td>\n",
       "    </tr>\n",
       "    <tr>\n",
       "      <th>20</th>\n",
       "      <td>The End</td>\n",
       "      <td>200.0</td>\n",
       "      <td>small</td>\n",
       "    </tr>\n",
       "    <tr>\n",
       "      <th>21</th>\n",
       "      <td>Wildhorse Saloon - Nashville</td>\n",
       "      <td>2400.0</td>\n",
       "      <td>large</td>\n",
       "    </tr>\n",
       "    <tr>\n",
       "      <th>22</th>\n",
       "      <td>Nissan Stadium</td>\n",
       "      <td>69143.0</td>\n",
       "      <td>massive</td>\n",
       "    </tr>\n",
       "    <tr>\n",
       "      <th>23</th>\n",
       "      <td>TN Performing Arts Center Andrew Johnson Theater</td>\n",
       "      <td>264.0</td>\n",
       "      <td>small</td>\n",
       "    </tr>\n",
       "    <tr>\n",
       "      <th>24</th>\n",
       "      <td>The Basement-TN</td>\n",
       "      <td>200.0</td>\n",
       "      <td>small</td>\n",
       "    </tr>\n",
       "    <tr>\n",
       "      <th>25</th>\n",
       "      <td>Mercy Lounge</td>\n",
       "      <td>500.0</td>\n",
       "      <td>medium</td>\n",
       "    </tr>\n",
       "  </tbody>\n",
       "</table>\n",
       "</div>"
      ],
      "text/plain": [
       "                                               Venue  Capacity        Size\n",
       "0                                  Bridgestone Arena   20000.0     massive\n",
       "1                               James K Polk Theater    1031.0      medium\n",
       "2                                Andrew Jackson Hall    2425.0       large\n",
       "3                                Ascend Amphitheater    6800.0  very large\n",
       "4                             FirstBank Amphitheater    7500.0  very large\n",
       "5                               Grand Ole Opry House    4400.0       large\n",
       "6                                   Ryman Auditorium    2362.0       large\n",
       "7                               Marathon Music Works    1700.0       large\n",
       "8              Country Music Hall of Fame and Museum     776.0      medium\n",
       "9                     Nashville Municipal Auditorium    9654.0  very large\n",
       "10                             City Winery Nashville     650.0      medium\n",
       "11                           War Memorial Auditorium    2044.0       large\n",
       "12                      Schermerhorn Symphony Center    1844.0       large\n",
       "13                 Zanies Comedy Showplace Nashville     300.0       small\n",
       "14                      Zanies Comedy Club Nashville     300.0       small\n",
       "15                                    3rd & Lindsley     340.0       small\n",
       "16                                 The Basement East     575.0      medium\n",
       "17         CMA Theater at Country Music Hall Of Fame     776.0      medium\n",
       "18                 Vanderbilt University Alumni Lawn     550.0      medium\n",
       "19                                           Exit In     500.0      medium\n",
       "20                                           The End     200.0       small\n",
       "21                      Wildhorse Saloon - Nashville    2400.0       large\n",
       "22                                    Nissan Stadium   69143.0     massive\n",
       "23  TN Performing Arts Center Andrew Johnson Theater     264.0       small\n",
       "24                                   The Basement-TN     200.0       small\n",
       "25                                      Mercy Lounge     500.0      medium"
      ]
     },
     "execution_count": 92,
     "metadata": {},
     "output_type": "execute_result"
    }
   ],
   "source": [
    "venue_capacities"
   ]
  },
  {
   "cell_type": "code",
   "execution_count": 93,
   "id": "690d52a6",
   "metadata": {},
   "outputs": [],
   "source": [
    "venue_capacities.to_csv('../data/venue_capacities.csv')"
   ]
  },
  {
   "cell_type": "code",
   "execution_count": null,
   "id": "ddf4655b",
   "metadata": {},
   "outputs": [],
   "source": []
  },
  {
   "cell_type": "code",
   "execution_count": null,
   "id": "c98f87dc",
   "metadata": {},
   "outputs": [],
   "source": []
  },
  {
   "cell_type": "code",
   "execution_count": null,
   "id": "dbebd2ea",
   "metadata": {},
   "outputs": [],
   "source": []
  },
  {
   "cell_type": "code",
   "execution_count": null,
   "id": "3bb5c203",
   "metadata": {},
   "outputs": [],
   "source": []
  }
 ],
 "metadata": {
  "kernelspec": {
   "display_name": "Python 3 (ipykernel)",
   "language": "python",
   "name": "python3"
  },
  "language_info": {
   "codemirror_mode": {
    "name": "ipython",
    "version": 3
   },
   "file_extension": ".py",
   "mimetype": "text/x-python",
   "name": "python",
   "nbconvert_exporter": "python",
   "pygments_lexer": "ipython3",
   "version": "3.9.12"
  }
 },
 "nbformat": 4,
 "nbformat_minor": 5
}
